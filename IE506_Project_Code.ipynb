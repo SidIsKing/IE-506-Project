{
  "nbformat": 4,
  "nbformat_minor": 0,
  "metadata": {
    "colab": {
      "provenance": []
    },
    "kernelspec": {
      "name": "python3",
      "display_name": "Python 3"
    },
    "language_info": {
      "name": "python"
    }
  },
  "cells": [
    {
      "cell_type": "code",
      "source": [
        "import numpy as np\n",
        "\n",
        "def majority_vote(labels):\n",
        "    \"\"\"\n",
        "    Perform majority voting to determine the label of a data point\n",
        "    given multiple labelers with noisy labels.\n",
        "    \n",
        "    Args:\n",
        "    labels: list of labels provided by labelers\n",
        "    \n",
        "    Returns:\n",
        "    label: the majority label\n",
        "    \"\"\"\n",
        "    \n",
        "    unique_labels, counts = np.unique(labels, return_counts=True)\n",
        "    max_count_idx = np.argmax(counts)\n",
        "    label = unique_labels[max_count_idx]\n",
        "    \n",
        "    return label\n"
      ],
      "metadata": {
        "id": "UZLYhGCPGwxX"
      },
      "execution_count": 6,
      "outputs": []
    },
    {
      "cell_type": "code",
      "source": [
        "majority_vote(labels)"
      ],
      "metadata": {
        "colab": {
          "base_uri": "https://localhost:8080/",
          "height": 36
        },
        "id": "SM9HQDMCG4Tk",
        "outputId": "3a374f83-44b7-49a3-8398-0afd17a9d07d"
      },
      "execution_count": 10,
      "outputs": [
        {
          "output_type": "execute_result",
          "data": {
            "text/plain": [
              "'label2'"
            ],
            "application/vnd.google.colaboratory.intrinsic+json": {
              "type": "string"
            }
          },
          "metadata": {},
          "execution_count": 10
        }
      ]
    },
    {
      "cell_type": "code",
      "source": [
        "import numpy as np\n",
        "import matplotlib.pyplot as plt\n",
        "\n",
        "# Generate synthetic dataset\n",
        "X = np.random.rand(100, 2)\n",
        "y_true = np.zeros(100)\n",
        "y_true[X[:, 0] > X[:, 1]] = 1\n",
        "\n",
        "# Simulate noisy labels using single labelling\n",
        "p_error = 0.8\n",
        "y_noisy = np.where(np.random.rand(100) < p_error, 1 - y_true, y_true)\n",
        "\n",
        "# Define functions for majority vote and round-robin labelling\n",
        "def majority_vote(labels):\n",
        "    return np.bincount(labels.astype(int)).argmax()\n",
        "\n",
        "def round_robin(labels, n_rounds):\n",
        "    n_labels = len(labels)\n",
        "    labels_rr = np.zeros(n_labels, dtype=int)\n",
        "    for i in range(n_rounds):\n",
        "        start = i % n_labels\n",
        "        labels_rr[start::n_labels] = labels[start::n_labels]\n",
        "    return labels_rr\n",
        "\n",
        "# Compute accuracy for different number of labels using single labelling\n",
        "n_labels_list = range(10, 101, 10)\n",
        "acc_sl = []\n",
        "for n_labels in n_labels_list:\n",
        "    y_sl = y_noisy[:n_labels]\n",
        "    acc_sl.append(np.mean(y_sl == y_true[:n_labels]))\n",
        "\n",
        "# Compute accuracy for different number of labels using majority vote\n",
        "acc_mv = []\n",
        "for n_labels in n_labels_list:\n",
        "    y_mv = np.zeros(n_labels, dtype=int)\n",
        "    for i in range(n_labels):\n",
        "        labels = y_noisy[:i+1]\n",
        "        y_mv[i] = majority_vote(labels)\n",
        "    acc_mv.append(np.mean(y_mv == y_true[:n_labels]))\n",
        "\n",
        "# Plot accuracy vs no. of labels for each method\n",
        "plt.plot(n_labels_list, acc_sl, '-o', label='Single labelling')\n",
        "plt.plot(n_labels_list, acc_mv, '-o', label='Majority vote')\n",
        "plt.xlabel('Number of labels')\n",
        "plt.ylabel('Accuracy')\n",
        "plt.legend()\n",
        "plt.show()\n"
      ],
      "metadata": {
        "colab": {
          "base_uri": "https://localhost:8080/",
          "height": 283
        },
        "id": "mx2joF5qLPU_",
        "outputId": "150c8da2-76b3-4151-fabb-06ccf17b0a89"
      },
      "execution_count": 18,
      "outputs": [
        {
          "output_type": "display_data",
          "data": {
            "text/plain": [
              "<Figure size 432x288 with 1 Axes>"
            ],
            "image/png": "[encoded data removed]"
          },
          "metadata": {
            "needs_background": "light"
          }
        }
      ]
    },
    {
      "cell_type": "code",
      "source": [
        "import numpy as np\n",
        "\n",
        "# Generate synthetic dataset\n",
        "X = np.random.rand(100, 2)\n",
        "y_true = np.zeros(100)\n",
        "y_true[X[:, 0] > X[:, 1]] = 1\n",
        "\n",
        "# Print dataset\n",
        "print(\"Features:\")\n",
        "print(X)\n",
        "print(\"Labels:\")\n",
        "print(y_true)\n"
      ],
      "metadata": {
        "colab": {
          "base_uri": "https://localhost:8080/"
        },
        "id": "ABRO-eVQMS16",
        "outputId": "b9c1b1a0-37ee-49c6-814a-c91cbd3b691d"
      },
      "execution_count": 12,
      "outputs": [
        {
          "output_type": "stream",
          "name": "stdout",
          "text": [
            "Features:\n",
            "[[0.2982059  0.08914988]\n",
            " [0.10640186 0.76723664]\n",
            " [0.83469833 0.63007334]\n",
            " [0.12186585 0.35579269]\n",
            " [0.88015654 0.10970059]\n",
            " [0.14828429 0.87762828]\n",
            " [0.55690575 0.01718876]\n",
            " [0.98237212 0.99801984]\n",
            " [0.61665373 0.43584268]\n",
            " [0.66849426 0.0385286 ]\n",
            " [0.12226279 0.73171865]\n",
            " [0.004741   0.52792987]\n",
            " [0.96778678 0.45017223]\n",
            " [0.38587589 0.27358412]\n",
            " [0.11244389 0.31105555]\n",
            " [0.35161742 0.1743216 ]\n",
            " [0.98832404 0.77288824]\n",
            " [0.57684912 0.64414837]\n",
            " [0.59588624 0.50603552]\n",
            " [0.01354851 0.57531772]\n",
            " [0.80716329 0.61907643]\n",
            " [0.77650927 0.27861271]\n",
            " [0.39886154 0.80465488]\n",
            " [0.01824657 0.78934079]\n",
            " [0.89527305 0.76308777]\n",
            " [0.67258428 0.37596759]\n",
            " [0.00535467 0.89066682]\n",
            " [0.33543974 0.06887216]\n",
            " [0.64571399 0.67320681]\n",
            " [0.67588008 0.30462745]\n",
            " [0.50241482 0.33420322]\n",
            " [0.64659527 0.02944751]\n",
            " [0.06128491 0.37794277]\n",
            " [0.66527193 0.45831177]\n",
            " [0.6413567  0.21668543]\n",
            " [0.61897397 0.89144851]\n",
            " [0.21550679 0.15363488]\n",
            " [0.64598442 0.15385741]\n",
            " [0.72621997 0.10104947]\n",
            " [0.44983757 0.45572502]\n",
            " [0.83246815 0.11275633]\n",
            " [0.81246674 0.7918625 ]\n",
            " [0.83113247 0.65339154]\n",
            " [0.89819988 0.13201249]\n",
            " [0.29414543 0.15136726]\n",
            " [0.99943807 0.13117253]\n",
            " [0.3409847  0.28101885]\n",
            " [0.41431682 0.33384873]\n",
            " [0.12984859 0.69473806]\n",
            " [0.53820563 0.99093315]\n",
            " [0.96682808 0.99562864]\n",
            " [0.20683113 0.12496922]\n",
            " [0.12332495 0.25999313]\n",
            " [0.43811346 0.63358808]\n",
            " [0.23527636 0.60386421]\n",
            " [0.62719874 0.31981533]\n",
            " [0.65461194 0.02977841]\n",
            " [0.12001126 0.19268923]\n",
            " [0.45639819 0.89421614]\n",
            " [0.95332535 0.02239425]\n",
            " [0.0824834  0.77896888]\n",
            " [0.12528211 0.84812951]\n",
            " [0.39707731 0.34849568]\n",
            " [0.70866989 0.3818594 ]\n",
            " [0.25243897 0.9172452 ]\n",
            " [0.04077076 0.39606056]\n",
            " [0.15876741 0.65386172]\n",
            " [0.72712799 0.55715528]\n",
            " [0.36479416 0.3574464 ]\n",
            " [0.68035458 0.41296706]\n",
            " [0.49423985 0.32910483]\n",
            " [0.73531621 0.21489026]\n",
            " [0.31664198 0.1060974 ]\n",
            " [0.61671858 0.2835912 ]\n",
            " [0.77363371 0.90714441]\n",
            " [0.64937876 0.83420227]\n",
            " [0.0984214  0.50653822]\n",
            " [0.77909019 0.0822057 ]\n",
            " [0.20129418 0.10908609]\n",
            " [0.15389953 0.36399587]\n",
            " [0.76545717 0.17580295]\n",
            " [0.87860434 0.4836229 ]\n",
            " [0.96763305 0.56554579]\n",
            " [0.85191994 0.7947514 ]\n",
            " [0.4474266  0.52034149]\n",
            " [0.3814548  0.86321725]\n",
            " [0.95070706 0.2083472 ]\n",
            " [0.06894872 0.41215875]\n",
            " [0.18932772 0.7600845 ]\n",
            " [0.68307963 0.7888434 ]\n",
            " [0.02020729 0.14333021]\n",
            " [0.7720222  0.19125976]\n",
            " [0.88370645 0.92651899]\n",
            " [0.14657091 0.77337077]\n",
            " [0.49383008 0.9667529 ]\n",
            " [0.66319909 0.67758836]\n",
            " [0.47471735 0.17242984]\n",
            " [0.77389656 0.42713724]\n",
            " [0.04459217 0.44430498]\n",
            " [0.79763019 0.90115942]]\n",
            "Labels:\n",
            "[1. 0. 1. 0. 1. 0. 1. 0. 1. 1. 0. 0. 1. 1. 0. 1. 1. 0. 1. 0. 1. 1. 0. 0.\n",
            " 1. 1. 0. 1. 0. 1. 1. 1. 0. 1. 1. 0. 1. 1. 1. 0. 1. 1. 1. 1. 1. 1. 1. 1.\n",
            " 0. 0. 0. 1. 0. 0. 0. 1. 1. 0. 0. 1. 0. 0. 1. 1. 0. 0. 0. 1. 1. 1. 1. 1.\n",
            " 1. 1. 0. 0. 0. 1. 1. 0. 1. 1. 1. 1. 0. 0. 1. 0. 0. 0. 0. 1. 0. 0. 0. 0.\n",
            " 1. 1. 0. 0.]\n"
          ]
        }
      ]
    }
  ]
}